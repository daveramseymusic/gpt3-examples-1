{
 "cells": [
  {
   "cell_type": "code",
   "execution_count": null,
   "metadata": {},
   "outputs": [],
   "source": [
    "#| hide\n",
    "from gpt3_examples.core import *\n",
    "from nbdev.showdoc import *\n",
    "import openai\n",
    "from api_secrets import API_KEY\n",
    "openai.api_key = API_KEY"
   ]
  },
  {
   "cell_type": "markdown",
   "metadata": {},
   "source": [
    "# Quickstart with GPT3\n",
    "\n",
    "> connect with gpt3 and try out some things.  This notebook was created by following the great ML Tutorials [videos](https://youtu.be/Zb5Nylziu6E)"
   ]
  },
  {
   "cell_type": "markdown",
   "metadata": {},
   "source": [
    "## Install"
   ]
  },
  {
   "cell_type": "markdown",
   "metadata": {},
   "source": [
    "```sh\n",
    "pip install gpt3_examples\n",
    "```"
   ]
  },
  {
   "cell_type": "markdown",
   "metadata": {},
   "source": [
    "## How to use"
   ]
  },
  {
   "cell_type": "markdown",
   "metadata": {},
   "source": [
    "Import the functions and use them to play with GPT-3 models.  Make sure you create your own API keys by signing up in OpenAI"
   ]
  },
  {
   "cell_type": "markdown",
   "metadata": {},
   "source": [
    "# Example\n",
    "> Lets ask GPT3 to create some text for us!"
   ]
  },
  {
   "cell_type": "markdown",
   "metadata": {},
   "source": [
    "    -First we write a prompt to send to the model\n",
    "    -Then the model creates text for us based on the prompt"
   ]
  },
  {
   "cell_type": "code",
   "execution_count": null,
   "metadata": {},
   "outputs": [
    {
     "name": "stdout",
     "output_type": "stream",
     "text": [
      " bubbly, festive, and always up for a good time.\n"
     ]
    }
   ],
   "source": [
    "prompt = 'Whats a good tagline for champaign'\n",
    "\n",
    "text_response = ask_gpt3(prompt)\n",
    "print(text_response)"
   ]
  },
  {
   "cell_type": "code",
   "execution_count": null,
   "metadata": {},
   "outputs": [],
   "source": []
  }
 ],
 "metadata": {
  "kernelspec": {
   "display_name": "Python 3",
   "language": "python",
   "name": "python3"
  }
 },
 "nbformat": 4,
 "nbformat_minor": 4
}
